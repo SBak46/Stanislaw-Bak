{
 "cells": [
  {
   "cell_type": "code",
   "execution_count": 8,
   "metadata": {},
   "outputs": [
    {
     "name": "stdout",
     "output_type": "stream",
     "text": [
      "Integral=0.008389\n",
      "Program liczył 1.128990888595581 sekund\n"
     ]
    }
   ],
   "source": [
    "from math import sin,cos, pi\n",
    "import sympy as sp\n",
    "import time\n",
    "start_time=time.time()\n",
    "f=lambda x: sp.exp(-2*x*x)*x*x*sin(4*x*x)*sp.exp(x*x)*cos(-4*x*x)\n",
    "a=-1.2\n",
    "b=1.2\n",
    "n=3000\n",
    "h=(b-a)/n\n",
    "S=0.5*(f(a)+f(b))\n",
    "for i in range(1,n):\n",
    "    S+=f(a+i*h)\n",
    "Integral=h*S\n",
    "print('Integral=%f' % Integral)\n",
    "print(\"Program liczył %s sekund\" % (time.time() - start_time))"
   ]
  },
  {
   "cell_type": "code",
   "execution_count": null,
   "metadata": {},
   "outputs": [],
   "source": []
  },
  {
   "cell_type": "code",
   "execution_count": null,
   "metadata": {},
   "outputs": [],
   "source": []
  },
  {
   "cell_type": "code",
   "execution_count": null,
   "metadata": {},
   "outputs": [],
   "source": []
  },
  {
   "cell_type": "code",
   "execution_count": null,
   "metadata": {},
   "outputs": [],
   "source": []
  },
  {
   "cell_type": "code",
   "execution_count": null,
   "metadata": {},
   "outputs": [],
   "source": []
  }
 ],
 "metadata": {
  "kernelspec": {
   "display_name": "Python 3",
   "language": "python",
   "name": "python3"
  },
  "language_info": {
   "codemirror_mode": {
    "name": "ipython",
    "version": 3
   },
   "file_extension": ".py",
   "mimetype": "text/x-python",
   "name": "python",
   "nbconvert_exporter": "python",
   "pygments_lexer": "ipython3",
   "version": "3.8.5"
  }
 },
 "nbformat": 4,
 "nbformat_minor": 4
}
